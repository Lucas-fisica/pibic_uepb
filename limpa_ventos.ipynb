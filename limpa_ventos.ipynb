{
 "cells": [
  {
   "cell_type": "markdown",
   "metadata": {},
   "source": [
    "### Pacotes usados"
   ]
  },
  {
   "cell_type": "code",
   "execution_count": 1,
   "metadata": {},
   "outputs": [],
   "source": [
    "from calendar import monthrange as mr\n",
    "from pathlib import Path\n",
    "import pandas as pd\n",
    "from control import indice, busca1, dias\n",
    "import matplotlib.pyplot as plt\n",
    "import matplotlib as mpl\n",
    "import numpy as np"
   ]
  },
  {
   "cell_type": "code",
   "execution_count": 2,
   "metadata": {},
   "outputs": [],
   "source": [
    "mpl.rcParams['font.family'] = ['Family1', 'Serif', 'cursive']\n",
    "mpl.rcParams['font.size'] = 12"
   ]
  },
  {
   "cell_type": "markdown",
   "metadata": {},
   "source": [
    "### Buscar por arquivos com base o ano de ocorrencia das tempestades e cria uma pasta para salvar as seleções"
   ]
  },
  {
   "cell_type": "code",
   "execution_count": 5,
   "metadata": {},
   "outputs": [
    {
     "name": "stdout",
     "output_type": "stream",
     "text": [
      "[]\n"
     ]
    }
   ],
   "source": [
    "pasta = Path('dados/ventos')\n",
    "cach_cari = [i for i in pasta.glob('*/*') if busca1.findall(str(i))[0] in indice]\n",
    "print(cach_cari)\n",
    "cach_cari = sorted(cach_cari)\n",
    "selecionados = Path('selecionados')\n",
    "\n",
    "selecionados.mkdir(exist_ok=True)\n"
   ]
  },
  {
   "cell_type": "markdown",
   "metadata": {},
   "source": [
    "### Ler os arquivos"
   ]
  },
  {
   "cell_type": "code",
   "execution_count": 12,
   "metadata": {},
   "outputs": [
    {
     "name": "stdout",
     "output_type": "stream",
     "text": [
      "dados\\ventos\\Cachoeira\\wind.200101-200112.brazil.mer\n"
     ]
    },
    {
     "data": {
      "text/plain": [
       "2001"
      ]
     },
     "metadata": {},
     "output_type": "display_data"
    },
    {
     "data": {
      "text/plain": [
       "DatetimeIndex(['2001-01-01 01:00:00', '2001-01-01 02:00:00',\n",
       "               '2001-01-01 03:00:00', '2001-01-01 04:00:00',\n",
       "               '2001-01-01 05:00:00', '2001-01-01 06:00:00',\n",
       "               '2001-01-01 07:00:00', '2001-01-01 08:00:00',\n",
       "               '2001-01-01 09:00:00', '2001-01-01 10:00:00',\n",
       "               ...\n",
       "               '2001-12-31 15:00:00', '2001-12-31 16:00:00',\n",
       "               '2001-12-31 17:00:00', '2001-12-31 18:00:00',\n",
       "               '2001-12-31 19:00:00', '2001-12-31 20:00:00',\n",
       "               '2001-12-31 21:00:00', '2001-12-31 22:00:00',\n",
       "               '2001-12-31 23:00:00', '2002-01-01 00:00:00'],\n",
       "              dtype='datetime64[ns]', length=8760, freq='H')"
      ]
     },
     "metadata": {},
     "output_type": "display_data"
    },
    {
     "name": "stdout",
     "output_type": "stream",
     "text": [
      "dados\\ventos\\Cachoeira\\wind.200101-200112.brazil.zon\n"
     ]
    },
    {
     "data": {
      "text/plain": [
       "2001"
      ]
     },
     "metadata": {},
     "output_type": "display_data"
    },
    {
     "data": {
      "text/plain": [
       "DatetimeIndex(['2001-01-01 01:00:00', '2001-01-01 02:00:00',\n",
       "               '2001-01-01 03:00:00', '2001-01-01 04:00:00',\n",
       "               '2001-01-01 05:00:00', '2001-01-01 06:00:00',\n",
       "               '2001-01-01 07:00:00', '2001-01-01 08:00:00',\n",
       "               '2001-01-01 09:00:00', '2001-01-01 10:00:00',\n",
       "               ...\n",
       "               '2001-12-31 15:00:00', '2001-12-31 16:00:00',\n",
       "               '2001-12-31 17:00:00', '2001-12-31 18:00:00',\n",
       "               '2001-12-31 19:00:00', '2001-12-31 20:00:00',\n",
       "               '2001-12-31 21:00:00', '2001-12-31 22:00:00',\n",
       "               '2001-12-31 23:00:00', '2002-01-01 00:00:00'],\n",
       "              dtype='datetime64[ns]', length=8760, freq='H')"
      ]
     },
     "metadata": {},
     "output_type": "display_data"
    },
    {
     "name": "stdout",
     "output_type": "stream",
     "text": [
      "dados\\ventos\\Cachoeira\\wind.200201-200212.brazil.mer\n"
     ]
    },
    {
     "data": {
      "text/plain": [
       "2002"
      ]
     },
     "metadata": {},
     "output_type": "display_data"
    },
    {
     "data": {
      "text/plain": [
       "DatetimeIndex(['2002-01-01 01:00:00', '2002-01-01 02:00:00',\n",
       "               '2002-01-01 03:00:00', '2002-01-01 04:00:00',\n",
       "               '2002-01-01 05:00:00', '2002-01-01 06:00:00',\n",
       "               '2002-01-01 07:00:00', '2002-01-01 08:00:00',\n",
       "               '2002-01-01 09:00:00', '2002-01-01 10:00:00',\n",
       "               ...\n",
       "               '2002-12-31 15:00:00', '2002-12-31 16:00:00',\n",
       "               '2002-12-31 17:00:00', '2002-12-31 18:00:00',\n",
       "               '2002-12-31 19:00:00', '2002-12-31 20:00:00',\n",
       "               '2002-12-31 21:00:00', '2002-12-31 22:00:00',\n",
       "               '2002-12-31 23:00:00', '2003-01-01 00:00:00'],\n",
       "              dtype='datetime64[ns]', length=8760, freq='H')"
      ]
     },
     "metadata": {},
     "output_type": "display_data"
    },
    {
     "name": "stdout",
     "output_type": "stream",
     "text": [
      "dados\\ventos\\Cachoeira\\wind.200201-200212.brazil.zon\n"
     ]
    },
    {
     "data": {
      "text/plain": [
       "2002"
      ]
     },
     "metadata": {},
     "output_type": "display_data"
    },
    {
     "data": {
      "text/plain": [
       "DatetimeIndex(['2002-01-01 01:00:00', '2002-01-01 02:00:00',\n",
       "               '2002-01-01 03:00:00', '2002-01-01 04:00:00',\n",
       "               '2002-01-01 05:00:00', '2002-01-01 06:00:00',\n",
       "               '2002-01-01 07:00:00', '2002-01-01 08:00:00',\n",
       "               '2002-01-01 09:00:00', '2002-01-01 10:00:00',\n",
       "               ...\n",
       "               '2002-12-31 15:00:00', '2002-12-31 16:00:00',\n",
       "               '2002-12-31 17:00:00', '2002-12-31 18:00:00',\n",
       "               '2002-12-31 19:00:00', '2002-12-31 20:00:00',\n",
       "               '2002-12-31 21:00:00', '2002-12-31 22:00:00',\n",
       "               '2002-12-31 23:00:00', '2003-01-01 00:00:00'],\n",
       "              dtype='datetime64[ns]', length=8760, freq='H')"
      ]
     },
     "metadata": {},
     "output_type": "display_data"
    },
    {
     "name": "stdout",
     "output_type": "stream",
     "text": [
      "dados\\ventos\\Cachoeira\\wind.200301-200312.brazil.mer\n"
     ]
    },
    {
     "data": {
      "text/plain": [
       "2003"
      ]
     },
     "metadata": {},
     "output_type": "display_data"
    },
    {
     "data": {
      "text/plain": [
       "DatetimeIndex(['2003-01-01 01:00:00', '2003-01-01 02:00:00',\n",
       "               '2003-01-01 03:00:00', '2003-01-01 04:00:00',\n",
       "               '2003-01-01 05:00:00', '2003-01-01 06:00:00',\n",
       "               '2003-01-01 07:00:00', '2003-01-01 08:00:00',\n",
       "               '2003-01-01 09:00:00', '2003-01-01 10:00:00',\n",
       "               ...\n",
       "               '2003-12-31 15:00:00', '2003-12-31 16:00:00',\n",
       "               '2003-12-31 17:00:00', '2003-12-31 18:00:00',\n",
       "               '2003-12-31 19:00:00', '2003-12-31 20:00:00',\n",
       "               '2003-12-31 21:00:00', '2003-12-31 22:00:00',\n",
       "               '2003-12-31 23:00:00', '2004-01-01 00:00:00'],\n",
       "              dtype='datetime64[ns]', length=8760, freq='H')"
      ]
     },
     "metadata": {},
     "output_type": "display_data"
    },
    {
     "name": "stdout",
     "output_type": "stream",
     "text": [
      "dados\\ventos\\Cachoeira\\wind.200301-200312.brazil.zon\n"
     ]
    },
    {
     "data": {
      "text/plain": [
       "2003"
      ]
     },
     "metadata": {},
     "output_type": "display_data"
    },
    {
     "data": {
      "text/plain": [
       "DatetimeIndex(['2003-01-01 01:00:00', '2003-01-01 02:00:00',\n",
       "               '2003-01-01 03:00:00', '2003-01-01 04:00:00',\n",
       "               '2003-01-01 05:00:00', '2003-01-01 06:00:00',\n",
       "               '2003-01-01 07:00:00', '2003-01-01 08:00:00',\n",
       "               '2003-01-01 09:00:00', '2003-01-01 10:00:00',\n",
       "               ...\n",
       "               '2003-12-31 15:00:00', '2003-12-31 16:00:00',\n",
       "               '2003-12-31 17:00:00', '2003-12-31 18:00:00',\n",
       "               '2003-12-31 19:00:00', '2003-12-31 20:00:00',\n",
       "               '2003-12-31 21:00:00', '2003-12-31 22:00:00',\n",
       "               '2003-12-31 23:00:00', '2004-01-01 00:00:00'],\n",
       "              dtype='datetime64[ns]', length=8760, freq='H')"
      ]
     },
     "metadata": {},
     "output_type": "display_data"
    },
    {
     "name": "stdout",
     "output_type": "stream",
     "text": [
      "dados\\ventos\\Cachoeira\\wind.200401-200412.brazil.mer\n"
     ]
    },
    {
     "data": {
      "text/plain": [
       "2004"
      ]
     },
     "metadata": {},
     "output_type": "display_data"
    },
    {
     "data": {
      "text/plain": [
       "DatetimeIndex(['2004-01-01 01:00:00', '2004-01-01 02:00:00',\n",
       "               '2004-01-01 03:00:00', '2004-01-01 04:00:00',\n",
       "               '2004-01-01 05:00:00', '2004-01-01 06:00:00',\n",
       "               '2004-01-01 07:00:00', '2004-01-01 08:00:00',\n",
       "               '2004-01-01 09:00:00', '2004-01-01 10:00:00',\n",
       "               ...\n",
       "               '2004-12-31 15:00:00', '2004-12-31 16:00:00',\n",
       "               '2004-12-31 17:00:00', '2004-12-31 18:00:00',\n",
       "               '2004-12-31 19:00:00', '2004-12-31 20:00:00',\n",
       "               '2004-12-31 21:00:00', '2004-12-31 22:00:00',\n",
       "               '2004-12-31 23:00:00', '2005-01-01 00:00:00'],\n",
       "              dtype='datetime64[ns]', length=8784, freq='H')"
      ]
     },
     "metadata": {},
     "output_type": "display_data"
    },
    {
     "name": "stdout",
     "output_type": "stream",
     "text": [
      "dados\\ventos\\Cachoeira\\wind.200401-200412.brazil.zon\n"
     ]
    },
    {
     "data": {
      "text/plain": [
       "2004"
      ]
     },
     "metadata": {},
     "output_type": "display_data"
    },
    {
     "data": {
      "text/plain": [
       "DatetimeIndex(['2004-01-01 01:00:00', '2004-01-01 02:00:00',\n",
       "               '2004-01-01 03:00:00', '2004-01-01 04:00:00',\n",
       "               '2004-01-01 05:00:00', '2004-01-01 06:00:00',\n",
       "               '2004-01-01 07:00:00', '2004-01-01 08:00:00',\n",
       "               '2004-01-01 09:00:00', '2004-01-01 10:00:00',\n",
       "               ...\n",
       "               '2004-12-31 15:00:00', '2004-12-31 16:00:00',\n",
       "               '2004-12-31 17:00:00', '2004-12-31 18:00:00',\n",
       "               '2004-12-31 19:00:00', '2004-12-31 20:00:00',\n",
       "               '2004-12-31 21:00:00', '2004-12-31 22:00:00',\n",
       "               '2004-12-31 23:00:00', '2005-01-01 00:00:00'],\n",
       "              dtype='datetime64[ns]', length=8784, freq='H')"
      ]
     },
     "metadata": {},
     "output_type": "display_data"
    },
    {
     "name": "stdout",
     "output_type": "stream",
     "text": [
      "dados\\ventos\\Cachoeira\\wind.200501-200512.brazil.mer\n"
     ]
    },
    {
     "data": {
      "text/plain": [
       "2005"
      ]
     },
     "metadata": {},
     "output_type": "display_data"
    },
    {
     "data": {
      "text/plain": [
       "DatetimeIndex(['2005-01-01 01:00:00', '2005-01-01 02:00:00',\n",
       "               '2005-01-01 03:00:00', '2005-01-01 04:00:00',\n",
       "               '2005-01-01 05:00:00', '2005-01-01 06:00:00',\n",
       "               '2005-01-01 07:00:00', '2005-01-01 08:00:00',\n",
       "               '2005-01-01 09:00:00', '2005-01-01 10:00:00',\n",
       "               ...\n",
       "               '2005-12-31 15:00:00', '2005-12-31 16:00:00',\n",
       "               '2005-12-31 17:00:00', '2005-12-31 18:00:00',\n",
       "               '2005-12-31 19:00:00', '2005-12-31 20:00:00',\n",
       "               '2005-12-31 21:00:00', '2005-12-31 22:00:00',\n",
       "               '2005-12-31 23:00:00', '2006-01-01 00:00:00'],\n",
       "              dtype='datetime64[ns]', length=8760, freq='H')"
      ]
     },
     "metadata": {},
     "output_type": "display_data"
    },
    {
     "name": "stdout",
     "output_type": "stream",
     "text": [
      "dados\\ventos\\Cachoeira\\wind.200501-200512.brazil.zon\n"
     ]
    },
    {
     "data": {
      "text/plain": [
       "2005"
      ]
     },
     "metadata": {},
     "output_type": "display_data"
    },
    {
     "data": {
      "text/plain": [
       "DatetimeIndex(['2005-01-01 01:00:00', '2005-01-01 02:00:00',\n",
       "               '2005-01-01 03:00:00', '2005-01-01 04:00:00',\n",
       "               '2005-01-01 05:00:00', '2005-01-01 06:00:00',\n",
       "               '2005-01-01 07:00:00', '2005-01-01 08:00:00',\n",
       "               '2005-01-01 09:00:00', '2005-01-01 10:00:00',\n",
       "               ...\n",
       "               '2005-12-31 15:00:00', '2005-12-31 16:00:00',\n",
       "               '2005-12-31 17:00:00', '2005-12-31 18:00:00',\n",
       "               '2005-12-31 19:00:00', '2005-12-31 20:00:00',\n",
       "               '2005-12-31 21:00:00', '2005-12-31 22:00:00',\n",
       "               '2005-12-31 23:00:00', '2006-01-01 00:00:00'],\n",
       "              dtype='datetime64[ns]', length=8760, freq='H')"
      ]
     },
     "metadata": {},
     "output_type": "display_data"
    },
    {
     "name": "stdout",
     "output_type": "stream",
     "text": [
      "dados\\ventos\\Cachoeira\\wind.200601-200608.brazil.mer\n"
     ]
    },
    {
     "data": {
      "text/plain": [
       "2006"
      ]
     },
     "metadata": {},
     "output_type": "display_data"
    },
    {
     "data": {
      "text/plain": [
       "DatetimeIndex(['2006-01-01 01:00:00', '2006-01-01 02:00:00',\n",
       "               '2006-01-01 03:00:00', '2006-01-01 04:00:00',\n",
       "               '2006-01-01 05:00:00', '2006-01-01 06:00:00',\n",
       "               '2006-01-01 07:00:00', '2006-01-01 08:00:00',\n",
       "               '2006-01-01 09:00:00', '2006-01-01 10:00:00',\n",
       "               ...\n",
       "               '2006-08-05 15:00:00', '2006-08-05 16:00:00',\n",
       "               '2006-08-05 17:00:00', '2006-08-05 18:00:00',\n",
       "               '2006-08-05 19:00:00', '2006-08-05 20:00:00',\n",
       "               '2006-08-05 21:00:00', '2006-08-05 22:00:00',\n",
       "               '2006-08-05 23:00:00', '2006-08-06 00:00:00'],\n",
       "              dtype='datetime64[ns]', length=5208, freq='H')"
      ]
     },
     "metadata": {},
     "output_type": "display_data"
    },
    {
     "name": "stdout",
     "output_type": "stream",
     "text": [
      "dados\\ventos\\Cachoeira\\wind.200601-200608.brazil.zon\n"
     ]
    },
    {
     "data": {
      "text/plain": [
       "2006"
      ]
     },
     "metadata": {},
     "output_type": "display_data"
    },
    {
     "data": {
      "text/plain": [
       "DatetimeIndex(['2006-01-01 01:00:00', '2006-01-01 02:00:00',\n",
       "               '2006-01-01 03:00:00', '2006-01-01 04:00:00',\n",
       "               '2006-01-01 05:00:00', '2006-01-01 06:00:00',\n",
       "               '2006-01-01 07:00:00', '2006-01-01 08:00:00',\n",
       "               '2006-01-01 09:00:00', '2006-01-01 10:00:00',\n",
       "               ...\n",
       "               '2006-08-05 15:00:00', '2006-08-05 16:00:00',\n",
       "               '2006-08-05 17:00:00', '2006-08-05 18:00:00',\n",
       "               '2006-08-05 19:00:00', '2006-08-05 20:00:00',\n",
       "               '2006-08-05 21:00:00', '2006-08-05 22:00:00',\n",
       "               '2006-08-05 23:00:00', '2006-08-06 00:00:00'],\n",
       "              dtype='datetime64[ns]', length=5208, freq='H')"
      ]
     },
     "metadata": {},
     "output_type": "display_data"
    },
    {
     "name": "stdout",
     "output_type": "stream",
     "text": [
      "dados\\ventos\\Cachoeira\\wind.201206-201212.brazil.mer\n"
     ]
    },
    {
     "data": {
      "text/plain": [
       "2012"
      ]
     },
     "metadata": {},
     "output_type": "display_data"
    },
    {
     "data": {
      "text/plain": [
       "DatetimeIndex(['2012-06-01 01:00:00', '2012-06-01 02:00:00',\n",
       "               '2012-06-01 03:00:00', '2012-06-01 04:00:00',\n",
       "               '2012-06-01 05:00:00', '2012-06-01 06:00:00',\n",
       "               '2012-06-01 07:00:00', '2012-06-01 08:00:00',\n",
       "               '2012-06-01 09:00:00', '2012-06-01 10:00:00',\n",
       "               ...\n",
       "               '2012-12-31 14:00:00', '2012-12-31 15:00:00',\n",
       "               '2012-12-31 16:00:00', '2012-12-31 17:00:00',\n",
       "               '2012-12-31 18:00:00', '2012-12-31 19:00:00',\n",
       "               '2012-12-31 20:00:00', '2012-12-31 21:00:00',\n",
       "               '2012-12-31 22:00:00', '2012-12-31 23:00:00'],\n",
       "              dtype='datetime64[ns]', length=5135, freq='H')"
      ]
     },
     "metadata": {},
     "output_type": "display_data"
    },
    {
     "name": "stdout",
     "output_type": "stream",
     "text": [
      "dados\\ventos\\Cachoeira\\wind.201206-201212.brazil.zon\n"
     ]
    },
    {
     "data": {
      "text/plain": [
       "2012"
      ]
     },
     "metadata": {},
     "output_type": "display_data"
    },
    {
     "data": {
      "text/plain": [
       "DatetimeIndex(['2012-06-01 01:00:00', '2012-06-01 02:00:00',\n",
       "               '2012-06-01 03:00:00', '2012-06-01 04:00:00',\n",
       "               '2012-06-01 05:00:00', '2012-06-01 06:00:00',\n",
       "               '2012-06-01 07:00:00', '2012-06-01 08:00:00',\n",
       "               '2012-06-01 09:00:00', '2012-06-01 10:00:00',\n",
       "               ...\n",
       "               '2012-12-31 14:00:00', '2012-12-31 15:00:00',\n",
       "               '2012-12-31 16:00:00', '2012-12-31 17:00:00',\n",
       "               '2012-12-31 18:00:00', '2012-12-31 19:00:00',\n",
       "               '2012-12-31 20:00:00', '2012-12-31 21:00:00',\n",
       "               '2012-12-31 22:00:00', '2012-12-31 23:00:00'],\n",
       "              dtype='datetime64[ns]', length=5135, freq='H')"
      ]
     },
     "metadata": {},
     "output_type": "display_data"
    },
    {
     "name": "stdout",
     "output_type": "stream",
     "text": [
      "dados\\ventos\\Cachoeira\\wind.201301-201312.brazil.mer\n"
     ]
    },
    {
     "data": {
      "text/plain": [
       "2013"
      ]
     },
     "metadata": {},
     "output_type": "display_data"
    },
    {
     "data": {
      "text/plain": [
       "DatetimeIndex(['2013-01-01 01:00:00', '2013-01-01 02:00:00',\n",
       "               '2013-01-01 03:00:00', '2013-01-01 04:00:00',\n",
       "               '2013-01-01 05:00:00', '2013-01-01 06:00:00',\n",
       "               '2013-01-01 07:00:00', '2013-01-01 08:00:00',\n",
       "               '2013-01-01 09:00:00', '2013-01-01 10:00:00',\n",
       "               ...\n",
       "               '2013-12-31 15:00:00', '2013-12-31 16:00:00',\n",
       "               '2013-12-31 17:00:00', '2013-12-31 18:00:00',\n",
       "               '2013-12-31 19:00:00', '2013-12-31 20:00:00',\n",
       "               '2013-12-31 21:00:00', '2013-12-31 22:00:00',\n",
       "               '2013-12-31 23:00:00', '2014-01-01 00:00:00'],\n",
       "              dtype='datetime64[ns]', length=8760, freq='H')"
      ]
     },
     "metadata": {},
     "output_type": "display_data"
    },
    {
     "name": "stdout",
     "output_type": "stream",
     "text": [
      "dados\\ventos\\Cachoeira\\wind.201301-201312.brazil.zon\n"
     ]
    },
    {
     "data": {
      "text/plain": [
       "2013"
      ]
     },
     "metadata": {},
     "output_type": "display_data"
    },
    {
     "data": {
      "text/plain": [
       "DatetimeIndex(['2013-01-01 01:00:00', '2013-01-01 02:00:00',\n",
       "               '2013-01-01 03:00:00', '2013-01-01 04:00:00',\n",
       "               '2013-01-01 05:00:00', '2013-01-01 06:00:00',\n",
       "               '2013-01-01 07:00:00', '2013-01-01 08:00:00',\n",
       "               '2013-01-01 09:00:00', '2013-01-01 10:00:00',\n",
       "               ...\n",
       "               '2013-12-31 15:00:00', '2013-12-31 16:00:00',\n",
       "               '2013-12-31 17:00:00', '2013-12-31 18:00:00',\n",
       "               '2013-12-31 19:00:00', '2013-12-31 20:00:00',\n",
       "               '2013-12-31 21:00:00', '2013-12-31 22:00:00',\n",
       "               '2013-12-31 23:00:00', '2014-01-01 00:00:00'],\n",
       "              dtype='datetime64[ns]', length=8760, freq='H')"
      ]
     },
     "metadata": {},
     "output_type": "display_data"
    },
    {
     "name": "stdout",
     "output_type": "stream",
     "text": [
      "dados\\ventos\\Cachoeira\\wind.201501-201512.brazil.mer\n"
     ]
    },
    {
     "data": {
      "text/plain": [
       "2015"
      ]
     },
     "metadata": {},
     "output_type": "display_data"
    },
    {
     "data": {
      "text/plain": [
       "DatetimeIndex(['2015-01-01 01:00:00', '2015-01-01 02:00:00',\n",
       "               '2015-01-01 03:00:00', '2015-01-01 04:00:00',\n",
       "               '2015-01-01 05:00:00', '2015-01-01 06:00:00',\n",
       "               '2015-01-01 07:00:00', '2015-01-01 08:00:00',\n",
       "               '2015-01-01 09:00:00', '2015-01-01 10:00:00',\n",
       "               ...\n",
       "               '2015-12-31 15:00:00', '2015-12-31 16:00:00',\n",
       "               '2015-12-31 17:00:00', '2015-12-31 18:00:00',\n",
       "               '2015-12-31 19:00:00', '2015-12-31 20:00:00',\n",
       "               '2015-12-31 21:00:00', '2015-12-31 22:00:00',\n",
       "               '2015-12-31 23:00:00', '2016-01-01 00:00:00'],\n",
       "              dtype='datetime64[ns]', length=8760, freq='H')"
      ]
     },
     "metadata": {},
     "output_type": "display_data"
    },
    {
     "name": "stdout",
     "output_type": "stream",
     "text": [
      "dados\\ventos\\Cachoeira\\wind.201501-201512.brazil.zon\n"
     ]
    },
    {
     "data": {
      "text/plain": [
       "2015"
      ]
     },
     "metadata": {},
     "output_type": "display_data"
    },
    {
     "data": {
      "text/plain": [
       "DatetimeIndex(['2015-01-01 01:00:00', '2015-01-01 02:00:00',\n",
       "               '2015-01-01 03:00:00', '2015-01-01 04:00:00',\n",
       "               '2015-01-01 05:00:00', '2015-01-01 06:00:00',\n",
       "               '2015-01-01 07:00:00', '2015-01-01 08:00:00',\n",
       "               '2015-01-01 09:00:00', '2015-01-01 10:00:00',\n",
       "               ...\n",
       "               '2015-12-31 15:00:00', '2015-12-31 16:00:00',\n",
       "               '2015-12-31 17:00:00', '2015-12-31 18:00:00',\n",
       "               '2015-12-31 19:00:00', '2015-12-31 20:00:00',\n",
       "               '2015-12-31 21:00:00', '2015-12-31 22:00:00',\n",
       "               '2015-12-31 23:00:00', '2016-01-01 00:00:00'],\n",
       "              dtype='datetime64[ns]', length=8760, freq='H')"
      ]
     },
     "metadata": {},
     "output_type": "display_data"
    },
    {
     "name": "stdout",
     "output_type": "stream",
     "text": [
      "dados\\ventos\\Cachoeira\\wind.201701-201712.brazil.mer\n"
     ]
    },
    {
     "data": {
      "text/plain": [
       "2017"
      ]
     },
     "metadata": {},
     "output_type": "display_data"
    },
    {
     "data": {
      "text/plain": [
       "DatetimeIndex(['2017-01-01 01:00:00', '2017-01-01 02:00:00',\n",
       "               '2017-01-01 03:00:00', '2017-01-01 04:00:00',\n",
       "               '2017-01-01 05:00:00', '2017-01-01 06:00:00',\n",
       "               '2017-01-01 07:00:00', '2017-01-01 08:00:00',\n",
       "               '2017-01-01 09:00:00', '2017-01-01 10:00:00',\n",
       "               ...\n",
       "               '2017-12-31 15:00:00', '2017-12-31 16:00:00',\n",
       "               '2017-12-31 17:00:00', '2017-12-31 18:00:00',\n",
       "               '2017-12-31 19:00:00', '2017-12-31 20:00:00',\n",
       "               '2017-12-31 21:00:00', '2017-12-31 22:00:00',\n",
       "               '2017-12-31 23:00:00', '2018-01-01 00:00:00'],\n",
       "              dtype='datetime64[ns]', length=8760, freq='H')"
      ]
     },
     "metadata": {},
     "output_type": "display_data"
    },
    {
     "name": "stdout",
     "output_type": "stream",
     "text": [
      "dados\\ventos\\Cachoeira\\wind.201701-201712.brazil.zon\n"
     ]
    },
    {
     "data": {
      "text/plain": [
       "2017"
      ]
     },
     "metadata": {},
     "output_type": "display_data"
    },
    {
     "data": {
      "text/plain": [
       "DatetimeIndex(['2017-01-01 01:00:00', '2017-01-01 02:00:00',\n",
       "               '2017-01-01 03:00:00', '2017-01-01 04:00:00',\n",
       "               '2017-01-01 05:00:00', '2017-01-01 06:00:00',\n",
       "               '2017-01-01 07:00:00', '2017-01-01 08:00:00',\n",
       "               '2017-01-01 09:00:00', '2017-01-01 10:00:00',\n",
       "               ...\n",
       "               '2017-12-31 15:00:00', '2017-12-31 16:00:00',\n",
       "               '2017-12-31 17:00:00', '2017-12-31 18:00:00',\n",
       "               '2017-12-31 19:00:00', '2017-12-31 20:00:00',\n",
       "               '2017-12-31 21:00:00', '2017-12-31 22:00:00',\n",
       "               '2017-12-31 23:00:00', '2018-01-01 00:00:00'],\n",
       "              dtype='datetime64[ns]', length=8760, freq='H')"
      ]
     },
     "metadata": {},
     "output_type": "display_data"
    },
    {
     "name": "stdout",
     "output_type": "stream",
     "text": [
      "dados\\ventos\\Cariri\\wind.200407-200412.cariri.mer\n"
     ]
    },
    {
     "data": {
      "text/plain": [
       "2004"
      ]
     },
     "metadata": {},
     "output_type": "display_data"
    },
    {
     "data": {
      "text/plain": [
       "DatetimeIndex(['2004-07-22 01:00:00', '2004-07-22 02:00:00',\n",
       "               '2004-07-22 03:00:00', '2004-07-22 04:00:00',\n",
       "               '2004-07-22 05:00:00', '2004-07-22 06:00:00',\n",
       "               '2004-07-22 07:00:00', '2004-07-22 08:00:00',\n",
       "               '2004-07-22 09:00:00', '2004-07-22 10:00:00',\n",
       "               ...\n",
       "               '2004-12-31 14:00:00', '2004-12-31 15:00:00',\n",
       "               '2004-12-31 16:00:00', '2004-12-31 17:00:00',\n",
       "               '2004-12-31 18:00:00', '2004-12-31 19:00:00',\n",
       "               '2004-12-31 20:00:00', '2004-12-31 21:00:00',\n",
       "               '2004-12-31 22:00:00', '2004-12-31 23:00:00'],\n",
       "              dtype='datetime64[ns]', length=3911, freq='H')"
      ]
     },
     "metadata": {},
     "output_type": "display_data"
    },
    {
     "name": "stdout",
     "output_type": "stream",
     "text": [
      "dados\\ventos\\Cariri\\wind.200407-200412.cariri.zon\n"
     ]
    },
    {
     "data": {
      "text/plain": [
       "2004"
      ]
     },
     "metadata": {},
     "output_type": "display_data"
    },
    {
     "data": {
      "text/plain": [
       "DatetimeIndex(['2004-07-22 01:00:00', '2004-07-22 02:00:00',\n",
       "               '2004-07-22 03:00:00', '2004-07-22 04:00:00',\n",
       "               '2004-07-22 05:00:00', '2004-07-22 06:00:00',\n",
       "               '2004-07-22 07:00:00', '2004-07-22 08:00:00',\n",
       "               '2004-07-22 09:00:00', '2004-07-22 10:00:00',\n",
       "               ...\n",
       "               '2004-12-31 14:00:00', '2004-12-31 15:00:00',\n",
       "               '2004-12-31 16:00:00', '2004-12-31 17:00:00',\n",
       "               '2004-12-31 18:00:00', '2004-12-31 19:00:00',\n",
       "               '2004-12-31 20:00:00', '2004-12-31 21:00:00',\n",
       "               '2004-12-31 22:00:00', '2004-12-31 23:00:00'],\n",
       "              dtype='datetime64[ns]', length=3911, freq='H')"
      ]
     },
     "metadata": {},
     "output_type": "display_data"
    },
    {
     "name": "stdout",
     "output_type": "stream",
     "text": [
      "dados\\ventos\\Cariri\\wind.200501-200512.cariri.mer\n"
     ]
    },
    {
     "data": {
      "text/plain": [
       "2005"
      ]
     },
     "metadata": {},
     "output_type": "display_data"
    },
    {
     "data": {
      "text/plain": [
       "DatetimeIndex(['2005-01-01 01:00:00', '2005-01-01 02:00:00',\n",
       "               '2005-01-01 03:00:00', '2005-01-01 04:00:00',\n",
       "               '2005-01-01 05:00:00', '2005-01-01 06:00:00',\n",
       "               '2005-01-01 07:00:00', '2005-01-01 08:00:00',\n",
       "               '2005-01-01 09:00:00', '2005-01-01 10:00:00',\n",
       "               ...\n",
       "               '2005-12-31 15:00:00', '2005-12-31 16:00:00',\n",
       "               '2005-12-31 17:00:00', '2005-12-31 18:00:00',\n",
       "               '2005-12-31 19:00:00', '2005-12-31 20:00:00',\n",
       "               '2005-12-31 21:00:00', '2005-12-31 22:00:00',\n",
       "               '2005-12-31 23:00:00', '2006-01-01 00:00:00'],\n",
       "              dtype='datetime64[ns]', length=8760, freq='H')"
      ]
     },
     "metadata": {},
     "output_type": "display_data"
    },
    {
     "name": "stdout",
     "output_type": "stream",
     "text": [
      "dados\\ventos\\Cariri\\wind.200501-200512.cariri.zon\n"
     ]
    },
    {
     "data": {
      "text/plain": [
       "2005"
      ]
     },
     "metadata": {},
     "output_type": "display_data"
    },
    {
     "data": {
      "text/plain": [
       "DatetimeIndex(['2005-01-01 01:00:00', '2005-01-01 02:00:00',\n",
       "               '2005-01-01 03:00:00', '2005-01-01 04:00:00',\n",
       "               '2005-01-01 05:00:00', '2005-01-01 06:00:00',\n",
       "               '2005-01-01 07:00:00', '2005-01-01 08:00:00',\n",
       "               '2005-01-01 09:00:00', '2005-01-01 10:00:00',\n",
       "               ...\n",
       "               '2005-12-31 15:00:00', '2005-12-31 16:00:00',\n",
       "               '2005-12-31 17:00:00', '2005-12-31 18:00:00',\n",
       "               '2005-12-31 19:00:00', '2005-12-31 20:00:00',\n",
       "               '2005-12-31 21:00:00', '2005-12-31 22:00:00',\n",
       "               '2005-12-31 23:00:00', '2006-01-01 00:00:00'],\n",
       "              dtype='datetime64[ns]', length=8760, freq='H')"
      ]
     },
     "metadata": {},
     "output_type": "display_data"
    },
    {
     "name": "stdout",
     "output_type": "stream",
     "text": [
      "dados\\ventos\\Cariri\\wind.200601-200612.cariri.mer\n"
     ]
    },
    {
     "data": {
      "text/plain": [
       "2006"
      ]
     },
     "metadata": {},
     "output_type": "display_data"
    },
    {
     "data": {
      "text/plain": [
       "DatetimeIndex(['2006-01-01 01:00:00', '2006-01-01 02:00:00',\n",
       "               '2006-01-01 03:00:00', '2006-01-01 04:00:00',\n",
       "               '2006-01-01 05:00:00', '2006-01-01 06:00:00',\n",
       "               '2006-01-01 07:00:00', '2006-01-01 08:00:00',\n",
       "               '2006-01-01 09:00:00', '2006-01-01 10:00:00',\n",
       "               ...\n",
       "               '2006-12-31 15:00:00', '2006-12-31 16:00:00',\n",
       "               '2006-12-31 17:00:00', '2006-12-31 18:00:00',\n",
       "               '2006-12-31 19:00:00', '2006-12-31 20:00:00',\n",
       "               '2006-12-31 21:00:00', '2006-12-31 22:00:00',\n",
       "               '2006-12-31 23:00:00', '2007-01-01 00:00:00'],\n",
       "              dtype='datetime64[ns]', length=8760, freq='H')"
      ]
     },
     "metadata": {},
     "output_type": "display_data"
    },
    {
     "name": "stdout",
     "output_type": "stream",
     "text": [
      "dados\\ventos\\Cariri\\wind.200601-200612.cariri.zon\n"
     ]
    },
    {
     "data": {
      "text/plain": [
       "2006"
      ]
     },
     "metadata": {},
     "output_type": "display_data"
    },
    {
     "data": {
      "text/plain": [
       "DatetimeIndex(['2006-01-01 01:00:00', '2006-01-01 02:00:00',\n",
       "               '2006-01-01 03:00:00', '2006-01-01 04:00:00',\n",
       "               '2006-01-01 05:00:00', '2006-01-01 06:00:00',\n",
       "               '2006-01-01 07:00:00', '2006-01-01 08:00:00',\n",
       "               '2006-01-01 09:00:00', '2006-01-01 10:00:00',\n",
       "               ...\n",
       "               '2006-12-31 15:00:00', '2006-12-31 16:00:00',\n",
       "               '2006-12-31 17:00:00', '2006-12-31 18:00:00',\n",
       "               '2006-12-31 19:00:00', '2006-12-31 20:00:00',\n",
       "               '2006-12-31 21:00:00', '2006-12-31 22:00:00',\n",
       "               '2006-12-31 23:00:00', '2007-01-01 00:00:00'],\n",
       "              dtype='datetime64[ns]', length=8760, freq='H')"
      ]
     },
     "metadata": {},
     "output_type": "display_data"
    }
   ],
   "source": [
    "for i in cach_cari:\n",
    "    \n",
    "    ano = int(busca1.findall(str(i))[0])\n",
    "    valor_dia = dias(ano)\n",
    "    q_dias = sum([mr(year=ano,  month=i)[1] for i in range(1, 13)])\n",
    "    parada = q_dias*24\n",
    "    df = pd.read_csv(i, skiprows=[0, 2], sep='\\s+', usecols=[0, 1, 2, 3, 4, 5, 6, 7])\n",
    "    coluna = df['Heights:']\n",
    "    cidade = f'{str(i)[-10:]}'\n",
    "    if coluna[0] <= 2:\n",
    "        if coluna.shape[0] > parada:\n",
    "            df = df[:parada]\n",
    "            inicio = int(coluna[0])\n",
    "            \n",
    "            data = pd.date_range(start=f'{ano}/1/1 1:00:00', end=f'{ano+1}/1/1 00:00:00', freq='1H')\n",
    "\n",
    "        else:\n",
    "            fim = int(coluna.tail(1))\n",
    "            for mes, dias_mes  in enumerate(valor_dia):\n",
    "                if fim in dias_mes:\n",
    "                    dia_f = dias_mes.index(fim)+1\n",
    "                    data = pd.date_range(start=f'{ano}/1/1 1:00:00', end=f'{ano}/{mes+1}/{dia_f} 00:00:00', freq='1H')\n",
    "        df.insert(loc=0, column='Data', value=data, allow_duplicates=False)\n",
    "        ano_mes = f'{ano}01'\n",
    "\n",
    "    elif coluna[0]>=2:\n",
    "        selec = coluna < 367\n",
    "        \n",
    "        df = df[selec]\n",
    "        inicio = int(coluna[0])\n",
    "\n",
    "        for mes, dias_mes  in enumerate(valor_dia):\n",
    "            if inicio in dias_mes:\n",
    "                dia_i = dias_mes.index(inicio)+1\n",
    "                data = pd.date_range(start=f'{ano}/{mes+1}/{dia_i} 1:00:00', end=f'{ano}/12/31 23:00:00', freq='1H')\n",
    "                \n",
    "                if int(mes)<9:\n",
    "                    ano_mes = f'{ano}0{mes+1}'\n",
    "                else:\n",
    "                    ano_mes = f'{ano}{mes+1}'\n",
    "\n",
    "                df.insert(loc=0, column='Data', value=data, allow_duplicates=False)\n",
    "    \n",
    "    \n",
    "    df.to_string(f'{selecionados}/{ano_mes}_{cidade}.txt', index=False)\n",
    "\n",
    "                "
   ]
  },
  {
   "cell_type": "code",
   "execution_count": null,
   "metadata": {},
   "outputs": [],
   "source": [
    "    df = pd.read_csv(i, skiprows=[0, 2], sep='\\s+', usecols=[0, 1, 2, 3, 4, 5, 6, 7])\n",
    "    coluna = df['Heights:']\n",
    "    cidade = f'{str(i)[-10:]}'\n",
    "    if coluna[0] <= 2:\n",
    "        if coluna.shape[0] > parada:\n",
    "            df = df[:parada]\n",
    "            inicio = int(coluna[0])\n",
    "            \n",
    "            data = pd.date_range(start=f'{ano}/1/1 1:00:00', end=f'{ano+1}/1/1 00:00:00', freq='1H')\n",
    "\n",
    "            ano_mes = f'{ano}01'\n",
    "        else:\n",
    "            fim = int(coluna.tail(1))\n",
    "            for mes, dias_mes  in enumerate(valor_dia):\n",
    "                if fim in dias_mes:\n",
    "                    dia_f = dias_mes.index(fim)+1\n",
    "                    data = pd.date_range(start=f'{ano}/1/1 1:00:00', end=f'{ano}/{mes+1}/{dia_f} 00:00:00', freq='1H')\n",
    "\n",
    "    elif coluna[0]>=2:\n",
    "        selec = coluna < 367\n",
    "        \n",
    "        df = df[selec]\n",
    "        inicio = int(coluna[0])\n",
    "\n",
    "        for mes, dias_mes  in enumerate(valor_dia):\n",
    "            if inicio in dias_mes:\n",
    "                dia_i = dias_mes.index(inicio)+1\n",
    "                data = pd.date_range(start=f'{ano}/{mes+1}/{dia_i} 1:00:00', end=f'{ano}/12/31 23:00:00', freq='1H')\n",
    "                \n",
    "                if int(mes)<9:\n",
    "                    ano_mes = f'{ano}0{mes+1}'\n",
    "                else:\n",
    "                    ano_mes = f'{ano}{mes+1}'\n",
    "\n",
    "    df.insert(loc=0, column='Data', value=data, allow_duplicates=False)\n",
    "    \n",
    "    df.to_string(f'{selecionados}/{ano_mes}_{cidade}.txt', index=False)"
   ]
  }
 ],
 "metadata": {
  "kernelspec": {
   "display_name": "Python 3.10.6 ('.venv': venv)",
   "language": "python",
   "name": "python3"
  },
  "language_info": {
   "codemirror_mode": {
    "name": "ipython",
    "version": 3
   },
   "file_extension": ".py",
   "mimetype": "text/x-python",
   "name": "python",
   "nbconvert_exporter": "python",
   "pygments_lexer": "ipython3",
   "version": "3.10.6"
  },
  "orig_nbformat": 4,
  "vscode": {
   "interpreter": {
    "hash": "555f5074c1f5adcd8409314becba0ff3cc76fa4b4e9aecde93a5f9732476ca2d"
   }
  }
 },
 "nbformat": 4,
 "nbformat_minor": 2
}
