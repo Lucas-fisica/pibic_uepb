{
 "cells": [
  {
   "cell_type": "code",
   "execution_count": 2,
   "metadata": {},
   "outputs": [],
   "source": [
    "import pandas as pd\n",
    "from pathlib import Path\n",
    "import calendar as cd\n",
    "import re\n",
    "from control import kp_deci, kp_in, busca1"
   ]
  },
  {
   "cell_type": "code",
   "execution_count": 4,
   "metadata": {},
   "outputs": [],
   "source": [
    "colunas = ['tempo',0, 3, 6, 9, 12, 15, 18, 21]\n",
    "\n",
    "kp_arqui = [arq for arq in Path('dados/kp').glob('*.txt') if 'limpo' not in str(arq)]\n",
    "\n",
    "for caminho in kp_arqui:\n",
    "    ano = int(''.join(busca1.findall(str(caminho))))\n",
    "    df = pd.read_fwf(caminho, skiprows=0)\n",
    "    mes_dia = [cd.monthrange(year=ano, month=i)[1] for i in range(1, 13)]\n",
    "    q_dias_m = sum(mes_dia)\n",
    "    #anos = [2005, 2010, 2011, 2012, 2013, 2014, 2015, 2016, 2017, 2018, 2019]\n",
    "    try:\n",
    "        kp = df['Kp[8]           Sum'].str.split('', n=0, expand=True)\n",
    "    except:\n",
    "        kp = df['Kp[8]           Sum ap[8]'].str.split('', n=0, expand=True)\n",
    "\n",
    "    df365 = []\n",
    "    df365 = pd.DataFrame().T\n",
    "    df365['tempo'] = pd.date_range(f'1/1/{ano}', periods=q_dias_m, freq='D')\n",
    "    for num, simb, hora in zip(range(1, 16, 2), range(2, 17, 2), range(0, 22, 3)):\n",
    "        df365[f'{hora}'] = kp[num]+kp[simb]\n",
    "        \n",
    "\n",
    "        \n",
    "    df = pd.melt(df365, id_vars='tempo', var_name='hora', value_name='kp', ignore_index = True).sort_values('tempo')\n",
    "    df.reset_index(inplace=True)\n",
    "    df.drop(['tempo', 'index'], axis=1, inplace=True)\n",
    "    df['hora'] = df.hora.astype(int)\n",
    "\n",
    "\n",
    "    start1 = 0\n",
    "    start2 = 8\n",
    "    fim = len(df)\n",
    "    while start2<=fim:\n",
    "        df[start1:start2] = df[start1:start2].sort_values('hora', ascending=True)\n",
    "        start1 = start2\n",
    "        start2+=8\n",
    "    df.set_index(pd.date_range(start=f'{ano}/1/1', periods=8*q_dias_m, freq='3h'), inplace=True)\n",
    "    #df.drop('hora', axis=1, inplace=True)\n",
    "    df['Kp_o'] = df['kp']\n",
    "    for ki, kd in zip(kp_in, kp_deci):\n",
    "        df['kp'].replace(ki, kd, inplace=True)\n",
    "    df.kp.astype(float)\n",
    "    df.to_string(f'dados/kp/kp{ano}_limpo.txt', index=True)\n",
    "\n",
    "    "
   ]
  }
 ],
 "metadata": {
  "kernelspec": {
   "display_name": "Python 3.10.6 ('.venv': venv)",
   "language": "python",
   "name": "python3"
  },
  "language_info": {
   "codemirror_mode": {
    "name": "ipython",
    "version": 3
   },
   "file_extension": ".py",
   "mimetype": "text/x-python",
   "name": "python",
   "nbconvert_exporter": "python",
   "pygments_lexer": "ipython3",
   "version": "3.10.6"
  },
  "orig_nbformat": 4,
  "vscode": {
   "interpreter": {
    "hash": "555f5074c1f5adcd8409314becba0ff3cc76fa4b4e9aecde93a5f9732476ca2d"
   }
  }
 },
 "nbformat": 4,
 "nbformat_minor": 2
}
