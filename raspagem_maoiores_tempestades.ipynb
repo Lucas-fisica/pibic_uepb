{
 "cells": [
  {
   "cell_type": "code",
   "execution_count": 4,
   "metadata": {},
   "outputs": [],
   "source": [
    "from bs4 import BeautifulSoup as bs\n",
    "import pandas as pd\n",
    "import requests as rq\n",
    "from pathlib import Path\n",
    "from converte import kp_deci, kp_in"
   ]
  },
  {
   "cell_type": "code",
   "execution_count": 10,
   "metadata": {},
   "outputs": [],
   "source": [
    "dados = Path('dados')"
   ]
  },
  {
   "cell_type": "code",
   "execution_count": 3,
   "metadata": {},
   "outputs": [],
   "source": [
    "# caminho para os dados\n",
    "url = 'https://www.spaceweatherlive.com/en/auroral-activity/top-50-geomagnetic-storms.html'\n",
    "\n",
    "# cabeçalho que simula a requisição do navegador\n",
    "\n",
    "\n",
    "cookies = {\n",
    "    'CookieScriptConsent': '{\"action\":\"accept\",\"categories\":\"[\\\\\"performance\\\\\",\\\\\"targeting\\\\\",\\\\\"functionality\\\\\"]\",\"CMP\":\"CPWNoYVPWNoYVF2ADBENBdCgAAAAAAAAAAAAAAAAAAAA.YAAAAAAAAAAA\",\"key\":\"8aacd5d7-1b3e-46ab-a31d-3053f9c55c07\"}',\n",
    "    'SPSI': '575682a63cef91001aa58345e475e5e5',\n",
    "    'SPSE': 'K8vuNQIvLP/gqu8okpRWkrqnBlfqrNBLNY1uCCXs3SV+TndFT9w0hKadmkQkjQeBym/SGDPFGLNlgL2H7AqMWg==',\n",
    "    'spcsrf': 'ea702eee185ffd267e93cdb0d12c43c9',\n",
    "    'PRLST': 'cb',\n",
    "    'UTGv2': 'h4684ba6fe42242c1a648063d633336c2760',\n",
    "    '_ga_25HHLX0QL3': 'GS1.1.1650241884.3.0.1650241884.0',\n",
    "    '_ga': 'GA1.2.1277228958.1647879971',\n",
    "    '_gid': 'GA1.2.1948256143.1650241896',\n",
    "    'adOtr': '8U7O5653aec',\n",
    "}\n",
    "\n",
    "headers = {\n",
    "    'authority': 'www.spaceweatherlive.com',\n",
    "    'accept': 'text/html,application/xhtml+xml,application/xml;q=0.9,image/avif,image/webp,image/apng,*/*;q=0.8,application/signed-exchange;v=b3;q=0.9',\n",
    "    'accept-language': 'pt-BR,pt;q=0.9,en-US;q=0.8,en;q=0.7',\n",
    "    'cache-control': 'max-age=0',\n",
    "    # Requests sorts cookies= alphabetically\n",
    "    # 'cookie': 'CookieScriptConsent={\"action\":\"accept\",\"categories\":\"[\\\\\"performance\\\\\",\\\\\"targeting\\\\\",\\\\\"functionality\\\\\"]\",\"CMP\":\"CPWNoYVPWNoYVF2ADBENBdCgAAAAAAAAAAAAAAAAAAAA.YAAAAAAAAAAA\",\"key\":\"8aacd5d7-1b3e-46ab-a31d-3053f9c55c07\"}; SPSI=575682a63cef91001aa58345e475e5e5; SPSE=K8vuNQIvLP/gqu8okpRWkrqnBlfqrNBLNY1uCCXs3SV+TndFT9w0hKadmkQkjQeBym/SGDPFGLNlgL2H7AqMWg==; spcsrf=ea702eee185ffd267e93cdb0d12c43c9; PRLST=cb; UTGv2=h4684ba6fe42242c1a648063d633336c2760; _ga_25HHLX0QL3=GS1.1.1650241884.3.0.1650241884.0; _ga=GA1.2.1277228958.1647879971; _gid=GA1.2.1948256143.1650241896; adOtr=8U7O5653aec',\n",
    "    'sec-ch-ua': '\" Not A;Brand\";v=\"99\", \"Chromium\";v=\"100\"',\n",
    "    'sec-ch-ua-mobile': '?0',\n",
    "    'sec-ch-ua-platform': '\"Linux\"',\n",
    "    'sec-fetch-dest': 'document',\n",
    "    'sec-fetch-mode': 'navigate',\n",
    "    'sec-fetch-site': 'none',\n",
    "    'sec-fetch-user': '?1',\n",
    "    'upgrade-insecure-requests': '1',\n",
    "    'user-agent': 'Mozilla/5.0 (X11; Linux x86_64) AppleWebKit/537.36 (KHTML, like Gecko) Chrome/100.0.4896.60 Safari/537.36',\n",
    "}"
   ]
  },
  {
   "cell_type": "code",
   "execution_count": 13,
   "metadata": {},
   "outputs": [],
   "source": [
    "response = rq.get('https://www.spaceweatherlive.com/en/auroral-activity/top-50-geomagnetic-storms.html', headers=headers, cookies=cookies)\n",
    "\n",
    "#valores para converter\n",
    "\n",
    "# resposta da requisição\n",
    "response = rq.get(url, headers=headers)\n",
    "\n",
    "with open(f'{dados}/dadoshtml.txt', 'w') as file:\n",
    "    file.writelines(str(response.content))\n",
    "\n",
    "\n",
    "with open(f'{dados}/dadoshtml.txt', 'r') as file:\n",
    "    sopa = bs(file, 'html.parser')\n",
    "\n",
    "\n",
    "# separando a tabela do restante da pagina\n",
    "tabela = sopa.find_all('table', attrs={'class':'table'})\n",
    "tabela = tabela[0].find_all('tr')\n",
    "\n",
    "# variavel que irá guardar minha lista de valores\n",
    "g =[]\n",
    "\n",
    "# colunas a serem utilizadas pra nomear as tabelas\n",
    "colunas = ['data', 'Ap', 'kp_0h', 'kp_3h', 'kp_6h', 'kp_9h', 'kp_12h', 'kp_15h', 'kp_18h', 'kp_21h', 'Kp_Max_dia']\n",
    "\n",
    "# interando sobre as linhas da tabela\n",
    "for i in tabela[1:]:\n",
    "    f = []\n",
    "    c = i.find_all('td')\n",
    "    for e in c[1:-1]:\n",
    "        f.append(e.text)\n",
    "    g.append(f)\n",
    "# criando um datafra pandas\n",
    "df = pd.DataFrame(g, columns=colunas)\n",
    "# salvando a tabela dos valores do kp\n",
    "df.to_string(f'{dados}/tempestades_kp.txt')\n",
    "\n",
    "# convertendo os valores kp em kp decimais\n",
    "for ki, kd in zip(kp_in, kp_deci):\n",
    "    df.replace(ki, kd, inplace=True)\n",
    "\n",
    "# salvando a tabela dos valores do kp  decimais\n",
    "df.to_string(f'{dados}/tempestades_kp_decimais.txt')"
   ]
  }
 ],
 "metadata": {
  "kernelspec": {
   "display_name": "Python 3.10.6 ('.venv': venv)",
   "language": "python",
   "name": "python3"
  },
  "language_info": {
   "codemirror_mode": {
    "name": "ipython",
    "version": 3
   },
   "file_extension": ".py",
   "mimetype": "text/x-python",
   "name": "python",
   "nbconvert_exporter": "python",
   "pygments_lexer": "ipython3",
   "version": "3.10.6"
  },
  "orig_nbformat": 4,
  "vscode": {
   "interpreter": {
    "hash": "555f5074c1f5adcd8409314becba0ff3cc76fa4b4e9aecde93a5f9732476ca2d"
   }
  }
 },
 "nbformat": 4,
 "nbformat_minor": 2
}
