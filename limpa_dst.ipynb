{
 "cells": [
  {
   "cell_type": "markdown",
   "metadata": {},
   "source": [
    "# Importando os modulos a serem utilizados"
   ]
  },
  {
   "cell_type": "code",
   "execution_count": 1,
   "metadata": {},
   "outputs": [],
   "source": [
    "import pandas as pd\n",
    "import calendar as cg\n",
    "import os\n",
    "import re"
   ]
  },
  {
   "cell_type": "code",
   "execution_count": 4,
   "metadata": {},
   "outputs": [],
   "source": [
    "compilado = re.compile('\\d')\n",
    "caminhodst = 'dados/dst'\n",
    "arquivos_dst = [dire for dire in os.listdir(caminhodst) if dire.endswith('.txt')]"
   ]
  },
  {
   "cell_type": "markdown",
   "metadata": {},
   "source": [
    "# Tratando a base de dados *Dst* devido a existência de informações no formato de tabela descritiva ao final de cada mês."
   ]
  },
  {
   "cell_type": "code",
   "execution_count": 5,
   "metadata": {},
   "outputs": [],
   "source": [
    "for arquivo in arquivos_dst:\n",
    "    ano = int(''.join(re.findall(compilado, arquivo)))\n",
    "    n = 18 #tamanho da tabela descritiva\n",
    "\n",
    "    q_dias_m = [cg.monthrange(year=ano, month=i)[1] for i in range(1, 13)] #quantidade de dias\n",
    "\n",
    "    f = ''\n",
    "    for i in q_dias_m:\n",
    "        parada = n+i*24 #calculo do comprimento da janela dos dados\n",
    "        with open(f'dados/dst/{arquivo}', 'r') as ds:\n",
    "            mes = ds.readlines()[n:parada]\n",
    "            for l in mes:\n",
    "                f = f+l #adiciona os dados extraidos do mes em questão para a variavel f\n",
    "            n = parada+18 #calculo do novo valor onde começará a proxima interação na variavel ds(dados)\n",
    "\n",
    "    nome_coluna = 'Data'.ljust(13)+'Hora'.ljust(11)+'dia'.ljust(12)+'dst\\n'\n",
    "\n",
    "    with open(f'dados/dst/dst_limpo{ano}.txt','w') as tesla:\n",
    "        tesla.write(nome_coluna)\n",
    "        tesla.writelines(f)"
   ]
  }
 ],
 "metadata": {
  "kernelspec": {
   "display_name": "Python 3.10.6 ('.venv': venv)",
   "language": "python",
   "name": "python3"
  },
  "language_info": {
   "codemirror_mode": {
    "name": "ipython",
    "version": 3
   },
   "file_extension": ".py",
   "mimetype": "text/x-python",
   "name": "python",
   "nbconvert_exporter": "python",
   "pygments_lexer": "ipython3",
   "version": "3.10.6"
  },
  "vscode": {
   "interpreter": {
    "hash": "555f5074c1f5adcd8409314becba0ff3cc76fa4b4e9aecde93a5f9732476ca2d"
   }
  }
 },
 "nbformat": 4,
 "nbformat_minor": 2
}
