{
 "cells": [
  {
   "cell_type": "code",
   "execution_count": 1,
   "metadata": {},
   "outputs": [],
   "source": [
    "import pandas as pd\n",
    "from pathlib import Path\n",
    "from datetime import timedelta as dt\n",
    "from datetime import datetime as ds"
   ]
  },
  {
   "cell_type": "code",
   "execution_count": 7,
   "metadata": {},
   "outputs": [],
   "source": [
    "arq1 = Path('dados/kp')\n",
    "arq2 = Path('dados/dst')\n",
    "kp_dst = Path('dados/kp_dst')\n",
    "kp_dst.mkdir(exist_ok=True)\n",
    "arquivos1 = [i for i in arq1.glob('*limpo.txt')]\n",
    "arquivos1.sort()\n",
    "arquivos2 = [i for i in arq2.glob('dst_limpo*.txt')]\n",
    "arquivos2.sort()"
   ]
  },
  {
   "cell_type": "code",
   "execution_count": 13,
   "metadata": {},
   "outputs": [
    {
     "name": "stdout",
     "output_type": "stream",
     "text": [
      "                       kp Kp_o\n",
      "2001-01-01 00:00:00  0.00    0\n",
      "           03:00:00  0.33   0+\n",
      "           06:00:00  1.00    1\n",
      "           09:00:00  1.00    1\n",
      "           12:00:00  0.33   0+\n",
      "...                   ...  ...\n",
      "2001-12-31 09:00:00  1.33   1+\n",
      "           12:00:00  1.33   1+\n",
      "           15:00:00  3.00    3\n",
      "           18:00:00  3.67   4-\n",
      "           21:00:00  4.00    4\n",
      "\n",
      "[2920 rows x 2 columns]\n"
     ]
    }
   ],
   "source": [
    "for i, f in zip(arquivos1, arquivos2):\n",
    "    df = pd.read_csv(i, sep='\\s+')\n",
    "    dfs = pd.read_csv(f, sep='\\s+')\n",
    "    dfs.set_index('Data', inplace=True)\n",
    "    \n",
    "    sele1 = df['kp'] > 6\n",
    "    indece = df[sele1].index.get_level_values(0)\n",
    "    for r in indece:\n",
    "        antes = (ds.strptime(r,'%Y-%m-%d') - dt(days=2)).date()\n",
    "        depois = (ds.strptime(r,'%Y-%m-%d') + dt(days=2)).date()\n",
    "        df[str(antes):str(depois)].to_string(f'dados/kp_dst/kp_{r}.txt')\n",
    "        dfs[str(antes):str(depois)].to_string(f'dados/kp_dst/dst_{r}.txt')\n",
    "    break"
   ]
  }
 ],
 "metadata": {
  "kernelspec": {
   "display_name": "Python 3.10.6 ('.venv': venv)",
   "language": "python",
   "name": "python3"
  },
  "language_info": {
   "codemirror_mode": {
    "name": "ipython",
    "version": 3
   },
   "file_extension": ".py",
   "mimetype": "text/x-python",
   "name": "python",
   "nbconvert_exporter": "python",
   "pygments_lexer": "ipython3",
   "version": "3.10.6"
  },
  "orig_nbformat": 4,
  "vscode": {
   "interpreter": {
    "hash": "555f5074c1f5adcd8409314becba0ff3cc76fa4b4e9aecde93a5f9732476ca2d"
   }
  }
 },
 "nbformat": 4,
 "nbformat_minor": 2
}
